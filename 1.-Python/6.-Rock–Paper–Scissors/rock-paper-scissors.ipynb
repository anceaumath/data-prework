{
 "cells": [
  {
   "cell_type": "markdown",
   "metadata": {},
   "source": [
    "<img src=\"https://bit.ly/2VnXWr2\" width=\"100\" align=\"left\">"
   ]
  },
  {
   "cell_type": "markdown",
   "metadata": {},
   "source": [
    "# Rock, Paper & Scissors\n",
    "\n",
    "Let's play the famous game against our computer. You can check the rules [here](https://en.wikipedia.org/wiki/Rock%E2%80%93paper%E2%80%93scissors). \n",
    "\n",
    "## Task\n",
    "Create a program that imitates the playability of the well known game of rock, paper, scissors. Follow the guidelines provided.\n",
    "\n",
    "## Tools\n",
    "1. Loop: **for/while**\n",
    "2. Functions: **input(), print()...**\n",
    "3. Conditional statements: **if, elif, else**\n",
    "4. Definition of functions. Modular programming\n",
    "5. Import modules\n",
    "\n",
    "**To solve this challenge, the use of functions is recommended.**\n",
    "\n",
    "#### 1. Import the choice function of the random module."
   ]
  },
  {
   "cell_type": "code",
   "execution_count": 2,
   "metadata": {},
   "outputs": [],
   "source": [
    "import random"
   ]
  },
  {
   "cell_type": "markdown",
   "metadata": {},
   "source": [
    "#### 2. Create a list that includes the 3 possible gesture options of the game: 'rock', 'paper' or 'scissors'. Store the list in a variable called `gestures`."
   ]
  },
  {
   "cell_type": "code",
   "execution_count": 3,
   "metadata": {},
   "outputs": [],
   "source": [
    "gesture=[\"rock\",\"paper\",\"scissors\"]"
   ]
  },
  {
   "cell_type": "markdown",
   "metadata": {},
   "source": [
    "#### 3. Create a variable called `n_rounds` to store the maximum number of rounds to play in a game. \n",
    "Remember that the number of rounds must be odd: 1, 3, 5, ..."
   ]
  },
  {
   "cell_type": "code",
   "execution_count": 44,
   "metadata": {},
   "outputs": [],
   "source": [
    "n_rounds=4"
   ]
  },
  {
   "cell_type": "markdown",
   "metadata": {},
   "source": [
    "#### 4. Create a variable called `rounds_to_win` to store the number of rounds that a player must win to win the game.\n",
    "**Hint**: the value stored in `rounds_to_win` depends on the value of `n_rounds`. "
   ]
  },
  {
   "cell_type": "code",
   "execution_count": 46,
   "metadata": {},
   "outputs": [],
   "source": [
    "rounds_to_win=(n_rounds/2)+1\n",
    "\n",
    "\n"
   ]
  },
  {
   "cell_type": "markdown",
   "metadata": {},
   "source": [
    "#### 5. Create two variables to store the number of rounds that the computer and the player have won. Call these variables `cpu_score` and `player_score`."
   ]
  },
  {
   "cell_type": "code",
   "execution_count": 16,
   "metadata": {},
   "outputs": [],
   "source": [
    "cpu_score=0\n",
    "player_score=0"
   ]
  },
  {
   "cell_type": "markdown",
   "metadata": {},
   "source": [
    "#### 6. Define a function that randomly returns one of the 3 gesture options.\n",
    "You will use this function to simulate the gesture choice of the computer. "
   ]
  },
  {
   "cell_type": "code",
   "execution_count": 17,
   "metadata": {},
   "outputs": [
    {
     "data": {
      "text/plain": [
       "'scissors'"
      ]
     },
     "execution_count": 17,
     "metadata": {},
     "output_type": "execute_result"
    }
   ],
   "source": [
    "def computer_move ():\n",
    "    computer_move=random.choice(gesture)\n",
    "    return computer_move\n",
    "\n",
    "computer_move()"
   ]
  },
  {
   "cell_type": "markdown",
   "metadata": {},
   "source": [
    "#### 7. Define a function that asks the player which is the gesture he or she wants to show: 'rock', 'paper' or 'scissors'.\n",
    "The player should only be allowed to choose one of the 3 gesture options. If the player's choice is not rock, paper or scissors, keep asking until it is."
   ]
  },
  {
   "cell_type": "code",
   "execution_count": 18,
   "metadata": {},
   "outputs": [
    {
     "name": "stdout",
     "output_type": "stream",
     "text": [
      "rock\n"
     ]
    },
    {
     "data": {
      "text/plain": [
       "'rock'"
      ]
     },
     "execution_count": 18,
     "metadata": {},
     "output_type": "execute_result"
    }
   ],
   "source": [
    "def player_move ():\n",
    "    player_move=input()\n",
    "    return player_move\n",
    "player_move()"
   ]
  },
  {
   "cell_type": "markdown",
   "metadata": {},
   "source": [
    "#### 8. Define a function that checks who won a round. \n",
    "The function should return 0 if there is a tie, 1 if the computer wins and 2 if the player wins."
   ]
  },
  {
   "cell_type": "code",
   "execution_count": 19,
   "metadata": {},
   "outputs": [],
   "source": [
    "result_match=0\n",
    "def find_who_won ():\n",
    "    if player_answer==computer_answer:\n",
    "        result_match=0 \n",
    "    elif computer_answer==\"rock\":\n",
    "        if player_answer==\"scissors\":\n",
    "            result_match=1 \n",
    "        else:\n",
    "            result_match=2\n",
    "    elif computer_answer==\"paper\":\n",
    "        if player_answer==\"scissors\":\n",
    "            result_match=2\n",
    "        else:\n",
    "            result_match=1 \n",
    "    elif computer_answer==\"scissors\":\n",
    "        if player_answer==\"rock\":\n",
    "            result_match=2\n",
    "        else:\n",
    "            result_match=1 \n",
    "    return result_match\n"
   ]
  },
  {
   "cell_type": "markdown",
   "metadata": {},
   "source": [
    "#### 9. Define a function that prints the choice of the computer, the choice of the player and a message that announces who won the current round. \n",
    "You should also use this function to update the variables that count the number of rounds that the computer and the player have won. The score of the winner increases by one point. If there is a tie, the score does not increase."
   ]
  },
  {
   "cell_type": "code",
   "execution_count": 62,
   "metadata": {},
   "outputs": [],
   "source": [
    "\n",
    "def final_choice():\n",
    "    print(\"computer plays:\",computer_answer)\n",
    "    print(\"player plays:\",player_answer)\n",
    "    global cpu_score\n",
    "    global player_score\n",
    "    if result==1:\n",
    "        cpu_score+=1\n",
    "        print(\"computer wins\")       \n",
    "    elif result==2:\n",
    "        print(\"player wins\")\n",
    "        player_score+=1\n",
    "    else:\n",
    "        print(\"it's a tie\")\n",
    "    return\n"
   ]
  },
  {
   "cell_type": "markdown",
   "metadata": {},
   "source": [
    "#### 10. Now it's time to code the execution of the game using the functions and variables you defined above. \n",
    "\n",
    "First, create a loop structure that repeats while no player reaches the minimum score necessary to win and the number of rounds is less than the maximum number of rounds to play in a game.  \n",
    "\n",
    "Inside the loop, use the functions and variables above to create the execution of a round: ask for the player's choice, generate the random choice of the computer, show the round results, update the scores, etc. "
   ]
  },
  {
   "cell_type": "code",
   "execution_count": 74,
   "metadata": {},
   "outputs": [
    {
     "name": "stdout",
     "output_type": "stream",
     "text": [
      "paper\n",
      "computer plays: paper\n",
      "player plays: paper\n",
      "it's a tie\n",
      "rock\n",
      "computer plays: paper\n",
      "player plays: rock\n",
      "computer wins\n",
      "rock\n",
      "computer plays: scissors\n",
      "player plays: rock\n",
      "player wins\n",
      "rock\n",
      "computer plays: rock\n",
      "player plays: rock\n",
      "it's a tie\n",
      "End of the game : computer score is 1 and player score is 1\n"
     ]
    }
   ],
   "source": [
    "num_round = 0\n",
    "cpu_score=0\n",
    "player_score=0\n",
    "game_on=True\n",
    "\n",
    "while game_on:\n",
    "    num_round+= 1\n",
    "    player_answer = player_move()\n",
    "    computer_answer = computer_move()\n",
    "    result=find_who_won()  \n",
    "    final_choice ()\n",
    "    if num_round>=n_rounds or ((cpu_score>=rounds_to_win)or(player_score>=rounds_to_win)):\n",
    "        game_on=False\n",
    "        print (\"End of the game :\",\"computer score is\", cpu_score,\"and player score is\",player_score)\n",
    "\n",
    "    \n"
   ]
  },
  {
   "cell_type": "markdown",
   "metadata": {},
   "source": [
    "#### 11. Print the winner of the game based on who won more rounds.\n",
    "Remember that the game might be tied. "
   ]
  },
  {
   "cell_type": "code",
   "execution_count": 75,
   "metadata": {},
   "outputs": [
    {
     "name": "stdout",
     "output_type": "stream",
     "text": [
      "It's a tie, start again !\n"
     ]
    }
   ],
   "source": [
    "if cpu_score>player_score:\n",
    "    print(\"Computer wins!!!\")\n",
    "elif player_score>cpu_score:\n",
    "    print(\"You win !!\")\n",
    "else :\n",
    "    print (\"It's a tie, start again !\")\n",
    "      "
   ]
  },
  {
   "cell_type": "markdown",
   "metadata": {},
   "source": [
    "# Bonus: Rock, Paper, Scissors, Lizard & Spock\n",
    "![](images/rpsls.jpg)\n",
    "\n",
    "In this challenge, you need to improve the previous game by adding two new options. To know more about the rules of the improved version of rock, paper, scissors, check this [link](http://www.samkass.com/theories/RPSSL.html). \n",
    "\n",
    "In addition, you will also need to improve how the game interacts with the player: the number of rounds to play, which must be an odd number, will be requested to the user until a valid number is entered. Define a new function to make that request.\n",
    "\n",
    "**Hint**: Try to reuse the code that you already coded in the previous challenge. If your code is efficient, this bonus will only consist of simple modifications to the original game."
   ]
  },
  {
   "cell_type": "code",
   "execution_count": 3,
   "metadata": {},
   "outputs": [
    {
     "name": "stdout",
     "output_type": "stream",
     "text": [
      "please enter and odd number of rounds\n",
      "01\n",
      "Choose between Rock,Paper ,Scissors ,Lizard, Spock :spock\n",
      "computer plays: spock\n",
      "player plays: spock\n",
      "it's a tie\n",
      "End of the game : computer score is 0 and player score is 0\n",
      "It's a tie, start again !\n"
     ]
    }
   ],
   "source": [
    "import random\n",
    "\n",
    "gesture=[\"rock\",\"paper\",\"scissors\",\"lizard\",\"spock\"]\n",
    "\n",
    "def computer_move ():\n",
    "    computer_move=random.choice(gesture)\n",
    "    return computer_move\n",
    "\n",
    "def player_move ():\n",
    "    player_move=input(\"Choose between Rock,Paper ,Scissors ,Lizard, Spock :\")\n",
    "    return player_move\n",
    "\n",
    "\n",
    "def find_who_won ():\n",
    "    global result_match\n",
    "    if player_answer==computer_answer:\n",
    "        result_match=0 \n",
    "    elif computer_answer==\"rock\":\n",
    "        if player_answer==\"scissors\":\n",
    "            result_match=1 \n",
    "        elif player_answer==\"paper\": \n",
    "            result_match=2\n",
    "        elif player_answer==\"lizard\": \n",
    "            result_match=1\n",
    "        else:\n",
    "            result_match=2\n",
    "    elif computer_answer==\"paper\":\n",
    "        if player_answer==\"scissors\":\n",
    "            result_match=2\n",
    "        elif player_answer==\"spock\": \n",
    "            result_match=1\n",
    "        elif player_answer==\"lizard\": \n",
    "            result_match=2   \n",
    "        else:\n",
    "            result_match=1 \n",
    "    elif computer_answer==\"scissors\":\n",
    "        if player_answer==\"rock\":\n",
    "            result_match=2\n",
    "        elif player_answer==\"spock\": \n",
    "            result_match=2\n",
    "        elif player_answer==\"lizard\": \n",
    "            result_match=1\n",
    "        else:\n",
    "            result_match=1\n",
    "    return result_match\n",
    "\n",
    "def final_choice():\n",
    "    print(\"computer plays:\",computer_answer)\n",
    "    print(\"player plays:\",player_answer)\n",
    "    global cpu_score\n",
    "    global player_score\n",
    "    if result==1:\n",
    "        cpu_score+=1\n",
    "        print(\"computer wins\")       \n",
    "    elif result==2:\n",
    "        print(\"player wins\")\n",
    "        player_score+=1\n",
    "    else:\n",
    "        print(\"it's a tie\")\n",
    "    return\n",
    "\n",
    "\n",
    "print(\"please enter and odd number of rounds\")\n",
    "\n",
    "\n",
    "even=True\n",
    "while even:\n",
    "    number_of_r=input(int())\n",
    "    if int(number_of_r)%2==0:\n",
    "        print (\"Please use an odd number :\")\n",
    "    else:\n",
    "          break\n",
    "\n",
    "\n",
    "\n",
    "cpu_score=0\n",
    "player_score=0\n",
    "num_round=0\n",
    "n_rounds=int(number_of_r)\n",
    "rounds_to_win=(n_rounds/2)+1\n",
    "game_on=True\n",
    "\n",
    "while game_on:\n",
    "    num_round+= 1\n",
    "    player_answer = player_move()\n",
    "    computer_answer = computer_move()\n",
    "    result=find_who_won()  \n",
    "    final_choice ()\n",
    "    if num_round>=int(n_rounds) or ((cpu_score>=rounds_to_win)or(player_score>=rounds_to_win)):\n",
    "        game_on=False\n",
    "        print (\"End of the game :\",\"computer score is\", cpu_score,\"and player score is\",player_score)\n",
    "        \n",
    "if cpu_score>player_score:\n",
    "    print(\"Computer wins!!!\")\n",
    "elif player_score>cpu_score:\n",
    "    print(\"You win !!\")\n",
    "else :\n",
    "    print (\"It's a tie, start again !\")"
   ]
  }
 ],
 "metadata": {
  "kernelspec": {
   "display_name": "Python 3",
   "language": "python",
   "name": "python3"
  },
  "language_info": {
   "codemirror_mode": {
    "name": "ipython",
    "version": 3
   },
   "file_extension": ".py",
   "mimetype": "text/x-python",
   "name": "python",
   "nbconvert_exporter": "python",
   "pygments_lexer": "ipython3",
   "version": "3.7.6"
  }
 },
 "nbformat": 4,
 "nbformat_minor": 2
}
